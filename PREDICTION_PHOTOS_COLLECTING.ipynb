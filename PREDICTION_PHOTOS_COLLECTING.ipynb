{
 "cells": [
  {
   "cell_type": "code",
   "execution_count": 9,
   "metadata": {},
   "outputs": [
    {
     "name": "stdout",
     "output_type": "stream",
     "text": [
      "Total photo clicked 31\n"
     ]
    }
   ],
   "source": [
    "import os \n",
    "import cv2\n",
    "\n",
    "def photo(maxcount):\n",
    "  '''maxcount means how many photos you want to click'''\n",
    "\n",
    "folder=\"C:\\\\data\\\\PREDICTION\" \n",
    "\n",
    "    #for example : folder for testing:\n",
    "    # r\"D:/data/train/foldername/\"\n",
    "    # r\"\"D:/data/test/foldername/\"\n",
    "cap=cv2.VideoCapture(0)\n",
    "count=0\n",
    "while True:\n",
    "        status,image=cap.read()\n",
    "        if status:\n",
    "            count=count+1\n",
    "            image=image[100:500,200:700]\n",
    "            file=\"file{0}\".format(count) + \".jpg\"\n",
    "            file=os.path.join(folder,file)\n",
    "            cv2.imwrite(file,image)\n",
    "            cv2.putText(image,str(count),(150,150),cv2.FONT_HERSHEY_SIMPLEX,1,(255,234,0),2)\n",
    "            cv2.imshow(\"photo\",image)\n",
    "#         os.mkdir(\"newfile1\")\n",
    "        \n",
    "        \n",
    "            if cv2.waitKey(100) == ord(\"q\"): \n",
    "                break\n",
    "cv2.destroyAllWindows()\n",
    "print(\"Total photo clicked {0}\".format(count))\n",
    "cap.release()"
   ]
  },
  {
   "cell_type": "code",
   "execution_count": null,
   "metadata": {},
   "outputs": [],
   "source": []
  },
  {
   "cell_type": "code",
   "execution_count": null,
   "metadata": {},
   "outputs": [],
   "source": []
  }
 ],
 "metadata": {
  "kernelspec": {
   "display_name": "Python 3",
   "language": "python",
   "name": "python3"
  },
  "language_info": {
   "codemirror_mode": {
    "name": "ipython",
    "version": 3
   },
   "file_extension": ".py",
   "mimetype": "text/x-python",
   "name": "python",
   "nbconvert_exporter": "python",
   "pygments_lexer": "ipython3",
   "version": "3.7.6"
  }
 },
 "nbformat": 4,
 "nbformat_minor": 4
}
